{
 "cells": [
  {
   "cell_type": "markdown",
   "metadata": {
    "deletable": true,
    "editable": true
   },
   "source": [
    "# Deep Recurrent Q-learning for POMDP"
   ]
  },
  {
   "cell_type": "markdown",
   "metadata": {},
   "source": [
    "https://arxiv.org/pdf/1507.06527.pdf"
   ]
  },
  {
   "cell_type": "markdown",
   "metadata": {
    "deletable": true,
    "editable": true
   },
   "source": [
    "#### Guillaume Berger"
   ]
  },
  {
   "cell_type": "markdown",
   "metadata": {},
   "source": [
    "#### The limit of Deep Q-Networks"
   ]
  },
  {
   "cell_type": "markdown",
   "metadata": {},
   "source": [
    "*Deep Q-Networks (DQNs)* have recently known great successes, especially with Atari 2600 games, on which they achieved state-of-the-art results [2, 3]. A DQN agent is learning policies from raw pixels exploiting a CNN trained via Q-Learning. Although training such agents is hard, long, and requires some tricks (Experience Replay, Target network...), obtained policies are above or near-human performance on many Atari games.\n",
    "\n",
    "However, DQNs are limited: they take decisions from a fixed number of past observations. More concretely, a DQN agent trained on an Atari game usually takes its decisions based on the last four observed frames:"
   ]
  },
  {
   "cell_type": "markdown",
   "metadata": {},
   "source": [
    "<img src=\"imgs/DQN_.png\", width=600>"
   ]
  },
  {
   "cell_type": "markdown",
   "metadata": {},
   "source": [
    "Due to its limited receptive field over past interactions, such agent would not be able to master tasks in wich it is important to remember information from early timesteps. On Atari games, it does not really matter because knowing only the last 4 frames is most of the time sufficient to determine the optimal policy. In other words, for Atari games, including the last four observed frames in the state representation is enough to make the environment be Markovian. Nevertheless, we could easily imagine games, or real-word applications, where it would be important for the agent to store memories of past interactions in order to determine a more clever long-term strategy. A DQN, as presented in the previous figure, would not be well equiped for this kind of task. "
   ]
  },
  {
   "cell_type": "markdown",
   "metadata": {},
   "source": [
    "#### Partial Observability"
   ]
  },
  {
   "cell_type": "markdown",
   "metadata": {},
   "source": [
    "Unfortunately, in most real-world applications, the entire world is not visible at any moment, but partially observable. *[add example]*. In this context, the environment does not meet the standards of a Markovian Decision Process (MDP) because the current state is not sufficient to select the optimal policy: we talk of Partialy Observable Markov Decision Processes (POMDPs). In order to master POMDPs, it is important to allow the agent to store (and read from) memories of past interactions. *Deep Recurrent Q-Networks (DRQNs)* [1] offers a way of achieving this."
   ]
  },
  {
   "cell_type": "markdown",
   "metadata": {},
   "source": [
    "#### Deep Recurrent Q-Networks"
   ]
  },
  {
   "cell_type": "markdown",
   "metadata": {},
   "source": [
    "As illustrated below, designing the architecture of a DRQN could simply consist in adding one recurrent layer on top of feedforward ones. In comparison with feedforward layers, recurrent ones have hidden states that are persistent over time:\n",
    "\n",
    "$$h_{t+1} = \\Phi(U \\ x_{t+1}  +  W \\ h_t) $$\n",
    "\n",
    "where $h_t$ represents the hidden states, $x_{t+1}$ is the new input at timestep $t+1$, and $\\Phi$ is a non-linearity. Therefore, at timestep $T$, the hidden states $h_T$ depends on all previously visited states $h_t, t<T$. Consequently, one can hope that a DRQN agent will be able to exploits past experience via the persistent states of its recurrent layer. Note that, in practice, one would probably prefer LSTM layers, for which the recurrent equation is more complex, over simple recurrent layers as they are better at learning long-term dependencies.  "
   ]
  },
  {
   "cell_type": "markdown",
   "metadata": {},
   "source": [
    "<img src=\"imgs/DRQN.png\", width=800>"
   ]
  },
  {
   "cell_type": "markdown",
   "metadata": {},
   "source": [
    "In [1], they compared DQNs and DRQNs, trained on POMDP versions of Atari games. Results illustrate the benefit of incorporating recurrent layers in the architecture of the function approximator: as expected, **DRQNs better handle partial observability**"
   ]
  },
  {
   "cell_type": "markdown",
   "metadata": {},
   "source": [
    "#### Some related papers"
   ]
  },
  {
   "cell_type": "markdown",
   "metadata": {},
   "source": [
    "While giving the opportunity of storing memories to the agent is not a novel idea (e.g. [7]), this memory mechanism seems to be a hot topic currently:\n",
    "\n",
    "-  *Feedback Recurrent Memory Q-Networks (FRMQNs)* [4] obtains promising results on Minecraft tasks. FRMQNs not only exploits recurrent nets, but also Memory Networks [6] which provides another neural mechanism for storing experiences. In comparison with LSTMs, the memory of MemNets is more explicit and compartimentalized.\n",
    "\n",
    "- The very recent DeepMind paper [5] also investigates a mechanism that allows the agent to store past experiences. However, their memory mechanism seems to be mostly aimed at speeding up the training of DQNs rather than improving performance on POMDPs."
   ]
  },
  {
   "cell_type": "markdown",
   "metadata": {},
   "source": [
    "### References"
   ]
  },
  {
   "cell_type": "markdown",
   "metadata": {},
   "source": [
    "[1] **Deep Recurrent Q-Learning for Partially Observable MDPs**, Matthew Hausknecht and Peter Stone, (2015)\n",
    "\n",
    "[2] **Playing Atari with Deep Reinforcement Learning**, Volodymyr Mnih, Koray Kavukcuoglu, David Silver, Alex Graves, Ioannis Antonoglou, Daan Wierstra, Martin Riedmiller (2015)\n",
    "\n",
    "[3] **Asynchronous Methods for Deep Reinforcement Learning**, Volodymyr Mnih, Adrià Puigdomènech Badia1, Mehdi Mirza1, Alex Graves, Tim Harley, Timothy P., David Silver, Koray Kavukcuoglu (2016)\n",
    "\n",
    "[4] **Control of Memory, Active Perception, and Action in Minecraft**, Junhyuk Oh, Valliappa Chockalingam, Satinder Singh, Honglak Lee (2016)\n",
    "\n",
    "[5] **Neural Episodic Control**, Alexander Pritzel, Benigno Uria, Sriram Srinivasan, Adria Puigdom, Oriol Vinyals, Demis Hassabis, Daan Wierstra, Charles Blundell (2017)\n",
    "\n",
    "[6] **End-To-End Memory Networks**, Sainbayar Sukhbaatar, Arthur Szlam, Jason Weston, Rob Fergus (2015)\n",
    " \n",
    "[7]  **Sparse Distributed Memories for On-Line Value-Based Reinforcement Learning**, Bohdana Ratitch, Doina Precup (2004)"
   ]
  },
  {
   "cell_type": "markdown",
   "metadata": {},
   "source": [
    "# EXPERIMENTs"
   ]
  },
  {
   "cell_type": "markdown",
   "metadata": {},
   "source": [
    "You'll find below the results of DQN/RDQN on a GridWorld POMDP taken from this cool blog post: https://medium.com/emergent-future/simple-reinforcement-learning-with-tensorflow-part-6-partial-observability-and-deep-recurrent-q-68463e9aeefc\n",
    "\n",
    "I also re-use some parts of my code done for assignment 2 on DQNs (https://github.com/rllabmcgill/rlcourse-march-17-guillaumebrg). The code uses Keras v1 and has been tested with a Theano backend."
   ]
  },
  {
   "cell_type": "markdown",
   "metadata": {
    "deletable": true,
    "editable": true
   },
   "source": [
    "### Import"
   ]
  },
  {
   "cell_type": "code",
   "execution_count": 2,
   "metadata": {
    "collapsed": false,
    "deletable": true,
    "editable": true
   },
   "outputs": [
    {
     "name": "stderr",
     "output_type": "stream",
     "text": [
      "Using Theano backend.\n",
      "Using gpu device 0: GeForce GTX 850M (CNMeM is disabled, cuDNN not available)\n"
     ]
    }
   ],
   "source": [
    "import numpy as np\n",
    "import matplotlib.pyplot as plt\n",
    "%matplotlib inline\n",
    "import time\n",
    "import pickle\n",
    "\n",
    "import dqn\n",
    "import utils\n",
    "import deepnets"
   ]
  },
  {
   "cell_type": "markdown",
   "metadata": {
    "deletable": true,
    "editable": true
   },
   "source": [
    "# A Gridworld example"
   ]
  },
  {
   "cell_type": "markdown",
   "metadata": {},
   "source": [
    "**Rules**: the agent (blue) evolves in a Gridworld. When the agent moves on a green cell, the reward is **+0.5**. On the contrary, when the agent moves on a red cell, the reward is **-1.0**. For any other move, the reward is **-0.1**. When a green cell is reached, it re-appear elsewhere.\n",
    "\n",
    "Inspired from https://medium.com/emergent-future/simple-reinforcement-learning-with-tensorflow-part-6-partial-observability-and-deep-recurrent-q-68463e9aeefc"
   ]
  },
  {
   "cell_type": "markdown",
   "metadata": {
    "deletable": true,
    "editable": true
   },
   "source": [
    "### Demo"
   ]
  },
  {
   "cell_type": "code",
   "execution_count": 17,
   "metadata": {
    "collapsed": false,
    "deletable": true,
    "editable": true,
    "scrolled": true
   },
   "outputs": [],
   "source": [
    "environment_demo = dqn.demo_GridWorld()"
   ]
  },
  {
   "cell_type": "markdown",
   "metadata": {},
   "source": [
    "#### Press Ctrl + Enter"
   ]
  },
  {
   "cell_type": "code",
   "execution_count": 28,
   "metadata": {
    "collapsed": false,
    "deletable": true,
    "editable": true
   },
   "outputs": [
    {
     "data": {
      "image/png": "[encoded data removed]",
      "text/plain": [
       "<matplotlib.figure.Figure at 0x2660cba8>"
      ]
     },
     "metadata": {},
     "output_type": "display_data"
    }
   ],
   "source": [
    "s = next(environment_demo)"
   ]
  },
  {
   "cell_type": "markdown",
   "metadata": {},
   "source": [
    "# DEBUGGING on a toy example"
   ]
  },
  {
   "cell_type": "markdown",
   "metadata": {
    "deletable": true,
    "editable": true
   },
   "source": [
    "### The DQN agent class - Random moves with random weights"
   ]
  },
  {
   "cell_type": "markdown",
   "metadata": {
    "deletable": true,
    "editable": true
   },
   "source": [
    "Just to check that everything works fine..."
   ]
  },
  {
   "cell_type": "markdown",
   "metadata": {},
   "source": [
    "#### Defining the environment / deep net / experience buffer"
   ]
  },
  {
   "cell_type": "code",
   "execution_count": 16,
   "metadata": {
    "collapsed": false,
    "deletable": true,
    "editable": true
   },
   "outputs": [],
   "source": [
    "epsilon = 0. # Fully stochastic\n",
    "gamma= 0.95\n",
    "T = 10\n",
    "\n",
    "# Environment\n",
    "environment = dqn.GridWorld(3, 3, 2, 1, T, gamma=gamma)\n",
    "# A neural net\n",
    "neuralnet = deepnets.CNN_3x3((3, 3, 3), 0.01)\n",
    "# ExperienceReplay \n",
    "experience_replay = dqn.ExperienceReplay(environment.return_state().shape, 1)"
   ]
  },
  {
   "cell_type": "markdown",
   "metadata": {},
   "source": [
    "#### The DQN agent"
   ]
  },
  {
   "cell_type": "code",
   "execution_count": 17,
   "metadata": {
    "collapsed": false,
    "deletable": true,
    "editable": true
   },
   "outputs": [],
   "source": [
    "agent = dqn.DQNAgent(environment, neuralnet, experience_replay, 1, epsilon=epsilon, gamma=gamma)"
   ]
  },
  {
   "cell_type": "markdown",
   "metadata": {
    "deletable": true,
    "editable": true
   },
   "source": [
    "#### Press Ctrl + Enter to make the agent move..."
   ]
  },
  {
   "cell_type": "code",
   "execution_count": 34,
   "metadata": {
    "collapsed": false,
    "deletable": true,
    "editable": true
   },
   "outputs": [
    {
     "data": {
      "image/png": "[encoded data removed]",
      "text/plain": [
       "<matplotlib.figure.Figure at 0x29159a58>"
      ]
     },
     "metadata": {},
     "output_type": "display_data"
    }
   ],
   "source": [
    "batch, target_batch =  agent.demo()"
   ]
  },
  {
   "cell_type": "markdown",
   "metadata": {},
   "source": [
    "# Few small experiments on this 3x3 grid"
   ]
  },
  {
   "cell_type": "markdown",
   "metadata": {},
   "source": [
    "**Nothing to do with POMDPs and DRQNs...** Before experimenting a POMDP and a bigger grid, I wanted to debug/test few things:\n",
    "\n",
    "- Adam vs SGD\n",
    "- TargetNet patience = 1 episode vs TargetNet patience = 5 episodes\n",
    "- Dueling vs No Dueling"
   ]
  },
  {
   "cell_type": "markdown",
   "metadata": {},
   "source": [
    "**A very small neural net :** 1 hidden layer with 16 neurons and ReLu activation, followed by the linear output layer."
   ]
  },
  {
   "cell_type": "code",
   "execution_count": 29,
   "metadata": {
    "collapsed": false
   },
   "outputs": [
    {
     "name": "stdout",
     "output_type": "stream",
     "text": [
      "____________________________________________________________________________________________________\n",
      "Layer (type)                     Output Shape          Param #     Connected to                     \n",
      "====================================================================================================\n",
      "input_1 (InputLayer)             (None, 3, 3, 3)       0                                            \n",
      "____________________________________________________________________________________________________\n",
      "convolution2d_1 (Convolution2D)  (None, 16, 1, 1)      448         input_1[0][0]                    \n",
      "____________________________________________________________________________________________________\n",
      "activation_1 (Activation)        (None, 16, 1, 1)      0           convolution2d_1[0][0]            \n",
      "____________________________________________________________________________________________________\n",
      "convolution2d_2 (Convolution2D)  (None, 4, 1, 1)       68          activation_1[0][0]               \n",
      "____________________________________________________________________________________________________\n",
      "flatten_1 (Flatten)              (None, 4)             0           convolution2d_2[0][0]            \n",
      "====================================================================================================\n",
      "Total params: 516\n",
      "Trainable params: 516\n",
      "Non-trainable params: 0\n",
      "____________________________________________________________________________________________________\n"
     ]
    }
   ],
   "source": [
    "neuralnet = deepnets.CNN_3x3((3, 3, 3), 0.01, dueling=False, adam=False)\n",
    "neuralnet.summary()"
   ]
  },
  {
   "cell_type": "markdown",
   "metadata": {},
   "source": [
    "### Fixed parameters"
   ]
  },
  {
   "cell_type": "code",
   "execution_count": 53,
   "metadata": {
    "collapsed": true
   },
   "outputs": [],
   "source": [
    "epsilon = 0.8 # for epsilon-greedy action selection\n",
    "gamma= 0.99 # discount factor\n",
    "batch_size = 32 # nb of samples taken from the experience buffer at each iteration\n",
    "T = 50 # length of an episode\n",
    "buffer_size = T*500 # buffer of 500 episodes"
   ]
  },
  {
   "cell_type": "markdown",
   "metadata": {},
   "source": [
    "### SGD vs Adam"
   ]
  },
  {
   "cell_type": "markdown",
   "metadata": {},
   "source": [
    "#### SGD"
   ]
  },
  {
   "cell_type": "code",
   "execution_count": 57,
   "metadata": {
    "collapsed": false
   },
   "outputs": [],
   "source": [
    "target_patience = 5\n",
    "# Environment\n",
    "environment = dqn.GridWorld(3, 3, 2, 1, T, gamma=gamma)\n",
    "# A neural net\n",
    "neuralnet = deepnets.CNN_3x3((3, 3, 3), 0.01, dueling=False, adam=False)\n",
    "targetnet = deepnets.CNN_3x3((3, 3, 3), 0.01, dueling=False, adam=False)\n",
    "# ExperienceReplay \n",
    "experience_replay = dqn.ExperienceReplay(environment.return_state().shape, buffer_size)\n",
    "# Agent\n",
    "agent = dqn.DQNAgent(environment, neuralnet, experience_replay, batch_size, target_net=targetnet, \n",
    "                     target_net_patience=target_patience, epsilon=epsilon, gamma=gamma)"
   ]
  },
  {
   "cell_type": "code",
   "execution_count": 58,
   "metadata": {
    "collapsed": true
   },
   "outputs": [
    {
     "name": "stdout",
     "output_type": "stream",
     "text": [
      "Episode 2999 - Running cum reward = 5.204 took 0.3s..                                                                                                                                                                                                                                                                                                                                                                                                                                                                                                                                                                                                                                                                                                                                                                                                                                                                                                                                                                                                                                                                                                                                                                                                                                                                                                                                                                                                                                                                                                                                                                                                                                                                                                                                                                                                                                                                                                                                                                                                                                                                                                                                                                                                                                                                                                                                                                                                                                                                                                                                                                                                                                                                                                                                                                                                                                                                                                                                                                                                                                                                                                                    \n"
     ]
    }
   ],
   "source": [
    "name = \"sgd\"\n",
    "# Train for 100 epochs of 1500 updates\n",
    "agent.fit(1500, 100, max_q_size=10, savename=\"experiment_01/weights_%s.npy\"%name)\n",
    "# Save learning curve\n",
    "agent.save_curve(\"experiment_01/curve_%s.npy\"%name)"
   ]
  },
  {
   "cell_type": "markdown",
   "metadata": {},
   "source": [
    "#### Adam"
   ]
  },
  {
   "cell_type": "code",
   "execution_count": 59,
   "metadata": {
    "collapsed": true
   },
   "outputs": [],
   "source": [
    "target_patience = 5\n",
    "# Environment\n",
    "environment = dqn.GridWorld(3, 3, 2, 1, T, gamma=gamma)\n",
    "# A neural net\n",
    "neuralnet = deepnets.CNN_3x3((3, 3, 3), 0.01, dueling=False, adam=True)\n",
    "targetnet = deepnets.CNN_3x3((3, 3, 3), 0.01, dueling=False, adam=True)\n",
    "# ExperienceReplay \n",
    "experience_replay = dqn.ExperienceReplay(environment.return_state().shape, buffer_size)\n",
    "# Agent\n",
    "agent = dqn.DQNAgent(environment, neuralnet, experience_replay, batch_size, target_net=targetnet, \n",
    "                     target_net_patience=target_patience, epsilon=epsilon, gamma=gamma)"
   ]
  },
  {
   "cell_type": "code",
   "execution_count": 60,
   "metadata": {
    "collapsed": true
   },
   "outputs": [
    {
     "name": "stdout",
     "output_type": "stream",
     "text": [
      "Episode 2998 - Running cum reward = -3.603 took 0.4s.                                                                                                                                                                                                                                                                                                                                                                                                                                                                                                                                                                                                                                                                                                                                                                                                                                                                                                                                                                                                                                                                                                                                                                                                                                                                                                                                                                                                                                                                                                                                                                                                                                                                                                                                                                                                                                                                                                                                                                                                                                                                                                                                                                                                                                                                                                                                                                                                                                                                                                                                                                                                                                                                                                                                                                                                                                                                                                                                                                                                                                                                                                                   \n"
     ]
    }
   ],
   "source": [
    "name = \"adam\"\n",
    "# Train for 75 epochs of 1000 updates\n",
    "agent.fit(1500, 100, max_q_size=10, savename=\"experiment_01/weights_%s.npy\"%name)\n",
    "# Save learning curve\n",
    "agent.save_curve(\"experiment_01/curve_%s.npy\"%name)"
   ]
  },
  {
   "cell_type": "markdown",
   "metadata": {
    "collapsed": true,
    "deletable": true,
    "editable": true
   },
   "source": [
    "#### Learning curves"
   ]
  },
  {
   "cell_type": "code",
   "execution_count": 34,
   "metadata": {
    "collapsed": false,
    "scrolled": true
   },
   "outputs": [
    {
     "data": {
      "image/png": "[encoded data removed]",
      "text/plain": [
       "<matplotlib.figure.Figure at 0x27533908>"
      ]
     },
     "metadata": {},
     "output_type": "display_data"
    }
   ],
   "source": [
    "plt.figure()\n",
    "for name in [\"sgd\", \"adam\"]:\n",
    "    curve = np.load(\"experiment_01/curve_%s.npy\"%name)\n",
    "    plt.plot(utils.moving_average(curve, 100), label=name)\n",
    "plt.grid()\n",
    "plt.legend()\n",
    "plt.ylabel(\"returns\")\n",
    "plt.xlabel(\"episodes\")\n",
    "plt.show()"
   ]
  },
  {
   "cell_type": "markdown",
   "metadata": {
    "deletable": true,
    "editable": true
   },
   "source": [
    "On this toy example, Adam (=SGD with fancy adaptive learning rate) does not seem to work. I tried to change the learning rate, without success."
   ]
  },
  {
   "cell_type": "markdown",
   "metadata": {},
   "source": [
    "### Target patience = 5 vs Target patience = 1"
   ]
  },
  {
   "cell_type": "markdown",
   "metadata": {
    "deletable": true,
    "editable": true
   },
   "source": [
    "#### Target patience = 1"
   ]
  },
  {
   "cell_type": "code",
   "execution_count": 65,
   "metadata": {
    "collapsed": false,
    "deletable": true,
    "editable": true
   },
   "outputs": [
    {
     "name": "stdout",
     "output_type": "stream",
     "text": [
      "\n"
     ]
    }
   ],
   "source": [
    "target_patience = 1\n",
    "# Environment\n",
    "environment = dqn.GridWorld(3, 3, 2, 1, T, gamma=gamma)\n",
    "# A neural net\n",
    "neuralnet = deepnets.CNN_3x3((3, 3, 3), 0.01, dueling=False, adam=False)\n",
    "targetnet = deepnets.CNN_3x3((3, 3, 3), 0.01, dueling=False, adam=False)\n",
    "# ExperienceReplay \n",
    "experience_replay = dqn.ExperienceReplay(environment.return_state().shape, 50*500)\n",
    "# Agent\n",
    "agent = dqn.DQNAgent(environment, neuralnet, experience_replay, batch_size, target_net=targetnet, \n",
    "                     target_net_patience=target_patience, epsilon=epsilon, gamma=gamma)"
   ]
  },
  {
   "cell_type": "code",
   "execution_count": null,
   "metadata": {
    "collapsed": false,
    "deletable": true,
    "editable": true
   },
   "outputs": [],
   "source": [
    "name = \"target_patience=1\"\n",
    "# Train for 75 epochs of 1000 updates\n",
    "agent.fit(1500, 100, max_q_size=10, savename=\"experiment_01/weights_%s.npy\"%name)\n",
    "# Save learning curve\n",
    "agent.save_curve(\"experiment_01/curve_%s.npy\"%name)"
   ]
  },
  {
   "cell_type": "markdown",
   "metadata": {},
   "source": [
    "#### Learning curve"
   ]
  },
  {
   "cell_type": "code",
   "execution_count": 35,
   "metadata": {
    "collapsed": false
   },
   "outputs": [
    {
     "data": {
      "image/png": "[encoded data removed]",
      "text/plain": [
       "<matplotlib.figure.Figure at 0x279a03c8>"
      ]
     },
     "metadata": {},
     "output_type": "display_data"
    }
   ],
   "source": [
    "plt.figure()\n",
    "for name in [\"sgd\", \"target_patience=1\"]:\n",
    "    curve = np.load(\"experiment_01/curve_%s.npy\"%name)\n",
    "    plt.plot(utils.moving_average(curve, 100), label=name)\n",
    "plt.grid()\n",
    "plt.legend()\n",
    "plt.ylabel(\"returns\")\n",
    "plt.xlabel(\"episodes\")\n",
    "plt.show()"
   ]
  },
  {
   "cell_type": "markdown",
   "metadata": {},
   "source": [
    "Similar performance. I kept using target_patience = 1 in the following."
   ]
  },
  {
   "cell_type": "markdown",
   "metadata": {
    "deletable": true,
    "editable": true
   },
   "source": [
    "### Dueling vs No dueling"
   ]
  },
  {
   "cell_type": "markdown",
   "metadata": {},
   "source": [
    "*Dueling* refers to the decoupling of $Q$ into two estimators : one for the state-value function, one for the \"state-action dependent advantage\" function:\n",
    "\n",
    "$$Q(S,A) = V(S) + A(S, A)$$\n",
    "\n",
    "(see https://arxiv.org/abs/1511.06581)"
   ]
  },
  {
   "cell_type": "markdown",
   "metadata": {},
   "source": [
    "#### Dueling"
   ]
  },
  {
   "cell_type": "code",
   "execution_count": 71,
   "metadata": {
    "collapsed": false,
    "deletable": true,
    "editable": true
   },
   "outputs": [],
   "source": [
    "target_patience = 1\n",
    "# Environment\n",
    "environment = dqn.GridWorld(3, 3, 2, 1, T, gamma=gamma)\n",
    "# A neural net\n",
    "neuralnet = deepnets.CNN_3x3((3, 3, 3), 0.01, dueling=True, adam=False)\n",
    "targetnet = deepnets.CNN_3x3((3, 3, 3), 0.01, dueling=True, adam=False)\n",
    "# ExperienceReplay \n",
    "experience_replay = dqn.ExperienceReplay(environment.return_state().shape, 50*500)\n",
    "# Agent\n",
    "agent = dqn.DQNAgent(environment, neuralnet, experience_replay, batch_size, target_net=targetnet, \n",
    "                     target_net_patience=target_patience, epsilon=epsilon, gamma=gamma)"
   ]
  },
  {
   "cell_type": "code",
   "execution_count": 72,
   "metadata": {
    "collapsed": true,
    "deletable": true,
    "editable": true
   },
   "outputs": [
    {
     "name": "stdout",
     "output_type": "stream",
     "text": [
      "Episode 2999 - Running cum reward = 4.926 took 0.4s..                                                                                                                                                                                                                                                                                                                                                                                                                                                                                                                                                                                                                                                                                                                                                                                                                                                                                                                                                                                                                                                                                                                                                                                                                                                                                                                                                                                                                                                                                                                                                                                                                                                                                                                                                                                                                                                                                                                                                                                                                                                                                                                                                                                                                                                                                                                                                                                                                                                                                                                                                                                                                                                                                                                                                                                                                                                                                                                                                                                                                                                                                                                    \n"
     ]
    }
   ],
   "source": [
    "name = \"dueling\"\n",
    "# Train for 75 epochs of 1000 updates\n",
    "agent.fit(1500, 100, max_q_size=10, savename=\"experiment_01/weights_%s.npy\"%name)\n",
    "# Save learning curve\n",
    "agent.save_curve(\"experiment_01/curve_%s.npy\"%name)"
   ]
  },
  {
   "cell_type": "markdown",
   "metadata": {},
   "source": [
    "#### Learning curve"
   ]
  },
  {
   "cell_type": "code",
   "execution_count": 36,
   "metadata": {
    "collapsed": false
   },
   "outputs": [
    {
     "data": {
      "image/png": "[encoded data removed]",
      "text/plain": [
       "<matplotlib.figure.Figure at 0x27f31208>"
      ]
     },
     "metadata": {},
     "output_type": "display_data"
    }
   ],
   "source": [
    "plt.figure()\n",
    "for name in [\"target_patience=1\", \"dueling\"]:\n",
    "    curve = np.load(\"experiment_01/curve_%s.npy\"%name)\n",
    "    plt.plot(utils.moving_average(curve, 100), label=name)\n",
    "plt.grid()\n",
    "plt.legend()\n",
    "plt.ylabel(\"returns\")\n",
    "plt.xlabel(\"episodes\")\n",
    "plt.show()"
   ]
  },
  {
   "cell_type": "markdown",
   "metadata": {},
   "source": [
    "I did not use Dueling in the following"
   ]
  },
  {
   "cell_type": "markdown",
   "metadata": {},
   "source": [
    "### Demo after training"
   ]
  },
  {
   "cell_type": "code",
   "execution_count": 357,
   "metadata": {
    "collapsed": true
   },
   "outputs": [],
   "source": [
    "dqn = reload(dqn)"
   ]
  },
  {
   "cell_type": "code",
   "execution_count": 358,
   "metadata": {
    "collapsed": true
   },
   "outputs": [],
   "source": [
    "# Environment\n",
    "environment = dqn.GridWorld(3, 3, 2, 1, T, gamma=gamma)\n",
    "# A neural net\n",
    "neuralnet = deepnets.CNN_3x3((3, 3, 3), 0.01, dueling=False, adam=False)\n",
    "targetnet = deepnets.CNN_3x3((3, 3, 3), 0.01, dueling=False, adam=False)\n",
    "# ExperienceReplay \n",
    "experience_replay = dqn.ExperienceReplay(environment.return_state().shape, 50*500)\n",
    "# Agent\n",
    "agent = dqn.DQNAgent(environment, neuralnet, experience_replay, batch_size, target_net=targetnet, \n",
    "                     target_net_patience=target_patience, epsilon=epsilon, gamma=gamma)"
   ]
  },
  {
   "cell_type": "markdown",
   "metadata": {},
   "source": [
    "#### Load weights"
   ]
  },
  {
   "cell_type": "code",
   "execution_count": 359,
   "metadata": {
    "collapsed": true,
    "deletable": true,
    "editable": true
   },
   "outputs": [],
   "source": [
    "agent.load_weights(\"experiment_01/weights_sgd.npy\")"
   ]
  },
  {
   "cell_type": "markdown",
   "metadata": {},
   "source": [
    "#### Demo"
   ]
  },
  {
   "cell_type": "code",
   "execution_count": 497,
   "metadata": {
    "collapsed": false,
    "deletable": true,
    "editable": true,
    "scrolled": false
   },
   "outputs": [
    {
     "data": {
      "image/png": "[encoded data removed]",
      "text/plain": [
       "<matplotlib.figure.Figure at 0x392f6908>"
      ]
     },
     "metadata": {},
     "output_type": "display_data"
    }
   ],
   "source": [
    "agent.epsilon = 1.\n",
    "batch, target_batch =  agent.demo()"
   ]
  },
  {
   "cell_type": "markdown",
   "metadata": {
    "deletable": true,
    "editable": true
   },
   "source": [
    "# Experiment 02 - POMDP - A myopic agent"
   ]
  },
  {
   "cell_type": "markdown",
   "metadata": {},
   "source": [
    "Let's finally do one experiment with a POMDP.\n",
    "\n",
    "Here, I consider a 7x7 grid and a **myopic agent**: the agent only sees the 3x3 block of cell centered at its position. Let's compare a DQN and a DRQN on this task."
   ]
  },
  {
   "cell_type": "code",
   "execution_count": 498,
   "metadata": {
    "collapsed": false,
    "deletable": true,
    "editable": true
   },
   "outputs": [],
   "source": [
    "environment = dqn.GridWorld(7, 7, 5, 3, 50, observable=[3,3], gamma=gamma)"
   ]
  },
  {
   "cell_type": "code",
   "execution_count": 68,
   "metadata": {
    "collapsed": false,
    "deletable": true,
    "editable": true
   },
   "outputs": [
    {
     "data": {
      "image/png": "[encoded data removed]",
      "text/plain": [
       "<matplotlib.figure.Figure at 0x37de35f8>"
      ]
     },
     "metadata": {},
     "output_type": "display_data"
    }
   ],
   "source": [
    "environment.visualize()"
   ]
  },
  {
   "cell_type": "markdown",
   "metadata": {},
   "source": [
    "### Fixed params"
   ]
  },
  {
   "cell_type": "code",
   "execution_count": 500,
   "metadata": {
    "collapsed": true
   },
   "outputs": [],
   "source": [
    "epsilon = 0.8\n",
    "gamma= 0.99\n",
    "batch_size = 32\n",
    "target_patience = 1\n",
    "buffer_size = 50*500"
   ]
  },
  {
   "cell_type": "markdown",
   "metadata": {
    "deletable": true,
    "editable": true
   },
   "source": [
    "### DQN"
   ]
  },
  {
   "cell_type": "markdown",
   "metadata": {},
   "source": [
    "Same neural net as before:"
   ]
  },
  {
   "cell_type": "code",
   "execution_count": 30,
   "metadata": {
    "collapsed": false
   },
   "outputs": [
    {
     "name": "stdout",
     "output_type": "stream",
     "text": [
      "____________________________________________________________________________________________________\n",
      "Layer (type)                     Output Shape          Param #     Connected to                     \n",
      "====================================================================================================\n",
      "input_2 (InputLayer)             (None, 3, 3, 3)       0                                            \n",
      "____________________________________________________________________________________________________\n",
      "convolution2d_3 (Convolution2D)  (None, 16, 1, 1)      448         input_2[0][0]                    \n",
      "____________________________________________________________________________________________________\n",
      "activation_2 (Activation)        (None, 16, 1, 1)      0           convolution2d_3[0][0]            \n",
      "____________________________________________________________________________________________________\n",
      "convolution2d_4 (Convolution2D)  (None, 4, 1, 1)       68          activation_2[0][0]               \n",
      "____________________________________________________________________________________________________\n",
      "flatten_2 (Flatten)              (None, 4)             0           convolution2d_4[0][0]            \n",
      "====================================================================================================\n",
      "Total params: 516\n",
      "Trainable params: 516\n",
      "Non-trainable params: 0\n",
      "____________________________________________________________________________________________________\n"
     ]
    }
   ],
   "source": [
    "neuralnet = deepnets.CNN_3x3((3, 3, 3), 0.01, dueling=False, adam=False)\n",
    "neuralnet.summary()"
   ]
  },
  {
   "cell_type": "code",
   "execution_count": 502,
   "metadata": {
    "collapsed": false,
    "deletable": true,
    "editable": true,
    "scrolled": true
   },
   "outputs": [],
   "source": [
    "# Environment\n",
    "environment = dqn.GridWorld(7, 7, 5, 3, 50, observable=[3,3], gamma=gamma)\n",
    "# A neural net\n",
    "neuralnet = deepnets.CNN_3x3((3, 3, 3), 0.01, dueling=False, adam=False)\n",
    "targetnet = deepnets.CNN_3x3((3, 3, 3), 0.01, dueling=False, adam=False)\n",
    "# ExperienceReplay \n",
    "experience_replay = dqn.ExperienceReplay(environment.return_state().shape, buffer_size)\n",
    "# Agent\n",
    "agent = dqn.DQNAgent(environment, neuralnet, experience_replay, batch_size, target_net=targetnet, \n",
    "                     target_net_patience=target_patience, epsilon=epsilon, gamma=gamma)"
   ]
  },
  {
   "cell_type": "code",
   "execution_count": 503,
   "metadata": {
    "collapsed": true,
    "deletable": true,
    "editable": true
   },
   "outputs": [
    {
     "name": "stdout",
     "output_type": "stream",
     "text": [
      "Episode 2999 - Running cum reward = -2.202 took 0.3s.                                                                                                                                                                                                                                                                                                                                                                                                                                                                                                                                                                                                                                                                                                                                                                                                                                                                                                                                                                                                                                                                                                                                                                                                                                                                                                                                                                                                                                                                                                                                                                                                                                                                                                                                                                                                                                                                                                                                                                                                                                                                                                                                                                                                                                                                                                                                                                                                                                                                                                                                                                                                                                                                                                                                                                                                                                                                                                                                                                                                                                                                                                                    \n"
     ]
    }
   ],
   "source": [
    "name = \"DQN\"\n",
    "# Train for 100 epochs of 1500 updates\n",
    "agent.fit(1500, 100, max_q_size=10, savename=\"experiment_02/weights_%s.npy\"%name)\n",
    "# Save learning curve\n",
    "agent.save_curve(\"experiment_02/curve_%s.npy\"%name)"
   ]
  },
  {
   "cell_type": "markdown",
   "metadata": {
    "deletable": true,
    "editable": true
   },
   "source": [
    "### DRQN"
   ]
  },
  {
   "cell_type": "markdown",
   "metadata": {},
   "source": [
    "Our recurrent net: 1 LSTM layer + Output layer"
   ]
  },
  {
   "cell_type": "code",
   "execution_count": 33,
   "metadata": {
    "collapsed": false
   },
   "outputs": [
    {
     "name": "stdout",
     "output_type": "stream",
     "text": [
      "____________________________________________________________________________________________________\n",
      "Layer (type)                     Output Shape          Param #     Connected to                     \n",
      "====================================================================================================\n",
      "input_3 (InputLayer)             (32, 1, 27)           0                                            \n",
      "____________________________________________________________________________________________________\n",
      "lstm_1 (LSTM)                    (32, 1, 16)           2816        input_3[0][0]                    \n",
      "____________________________________________________________________________________________________\n",
      "timedistributed_1 (TimeDistribut (32, 1, 4)            68          lstm_1[0][0]                     \n",
      "====================================================================================================\n",
      "Total params: 2,884\n",
      "Trainable params: 2,884\n",
      "Non-trainable params: 0\n",
      "____________________________________________________________________________________________________\n"
     ]
    }
   ],
   "source": [
    "neuralnet = deepnets.RCNN_3x3((batch_size, 1, 27), 0.01)\n",
    "neuralnet.summary()"
   ]
  },
  {
   "cell_type": "code",
   "execution_count": 576,
   "metadata": {
    "collapsed": false,
    "deletable": true,
    "editable": true
   },
   "outputs": [],
   "source": [
    "rec_depth = 50\n",
    "# Environment\n",
    "environment = dqn.GridWorld(7, 7, 5, 3, 50, observable=[3,3], gamma=gamma)\n",
    "# A neural net\n",
    "neuralnet = deepnets.RCNN_3x3((batch_size, 1, 27), 0.01)\n",
    "neuralnet_copy = deepnets.RCNN_3x3((batch_size, 1, 27), 0.01)\n",
    "targetnet = deepnets.RCNN_3x3((batch_size, 1, 27), 0.01)\n",
    "# ExperienceReplay \n",
    "experience_replay = dqn.TemporalExperienceReplay(rec_depth, environment.return_state().shape, buffer_size)\n",
    "# Agent\n",
    "agent = dqn.StatefulRDQNAgent(environment, neuralnet, neuralnet_copy, experience_replay, batch_size, target_net=targetnet, \n",
    "                     target_net_patience=target_patience, epsilon=epsilon, gamma=gamma)"
   ]
  },
  {
   "cell_type": "code",
   "execution_count": 578,
   "metadata": {
    "collapsed": true,
    "deletable": true,
    "editable": true
   },
   "outputs": [
    {
     "name": "stdout",
     "output_type": "stream",
     "text": [
      "Episode 2998 - Running cum reward = -0.897 took 3.4s.                                                                                                                                                                                                                                                                                                                                                                                                                                                                                                                                                                                                                                                                                                                                                                                                                                                                                                                                                                                                                                                                                                                                                                                                                                                                                                                                                                                                                                                                                                                                                                                                                                                                                                                                                                                                                                                                                                                                                                                                                                                                                                                                                                                                                                                                                                                                                                                                                                                                                                                                                                                                                                                                                                                                                                                                                                                                                                                                                                                                                                                                                                                   \n"
     ]
    }
   ],
   "source": [
    "name = \"DRQN\"\n",
    "# Train for 100 epochs of 1500 updates\n",
    "agent.fit(1500, 100, max_q_size=10, savename=\"experiment_02/weights_%s.npy\"%name)\n",
    "# Save learning curve\n",
    "agent.save_curve(\"experiment_02/curve_%s.npy\"%name)"
   ]
  },
  {
   "cell_type": "markdown",
   "metadata": {},
   "source": [
    "**Note**: I'm pretty sure that my DRQN implementation is not optimal in terms of speed... $10\\times$ slower in comparison with my DQN code. I'll investigate this."
   ]
  },
  {
   "cell_type": "markdown",
   "metadata": {},
   "source": [
    "## DQN vs DRQN"
   ]
  },
  {
   "cell_type": "code",
   "execution_count": 37,
   "metadata": {
    "collapsed": false
   },
   "outputs": [
    {
     "data": {
      "image/png": "[encoded data removed]",
      "text/plain": [
       "<matplotlib.figure.Figure at 0x27b73ef0>"
      ]
     },
     "metadata": {},
     "output_type": "display_data"
    }
   ],
   "source": [
    "plt.figure()\n",
    "for name in [\"DQN\", \"DRQN\"]:\n",
    "    curve = np.load(\"experiment_02/curve_%s.npy\"%name)\n",
    "    plt.plot(utils.moving_average(curve, 100), label=name)\n",
    "plt.grid()\n",
    "plt.legend()\n",
    "plt.ylabel(\"returns\")\n",
    "plt.xlabel(\"episodes\")\n",
    "plt.show()"
   ]
  },
  {
   "cell_type": "markdown",
   "metadata": {},
   "source": [
    "As can be seen on the learning curves, the **Recurrent agent clearly outperforms the feedforward one.** To understand why, let's observe how both agent evolves on this task:"
   ]
  },
  {
   "cell_type": "markdown",
   "metadata": {},
   "source": [
    "### Live demo"
   ]
  },
  {
   "cell_type": "code",
   "execution_count": 596,
   "metadata": {
    "collapsed": false
   },
   "outputs": [],
   "source": [
    "# Environment\n",
    "environment = dqn.GridWorld(7, 7, 5, 3, 50, observable=[3,3], gamma=gamma)\n",
    "# A neural net\n",
    "neuralnet = deepnets.CNN_3x3((3, 3, 3), 0.01, dueling=False, adam=False)\n",
    "targetnet = deepnets.CNN_3x3((3, 3, 3), 0.01, dueling=False, adam=False)\n",
    "# ExperienceReplay \n",
    "experience_replay = dqn.ExperienceReplay(environment.return_state().shape, buffer_size)\n",
    "# Agent\n",
    "DQN = dqn.DQNAgent(environment, neuralnet, experience_replay, batch_size, target_net=targetnet, \n",
    "                     target_net_patience=target_patience, epsilon=epsilon, gamma=gamma)\n",
    "# Load weights\n",
    "DQN.load_weights(\"experiment_02/weights_DQN.npy\")\n",
    "\n",
    "# Environment\n",
    "r_environment = dqn.GridWorld(7, 7, 5, 3, 50, observable=[3,3], gamma=gamma)\n",
    "# A neural net\n",
    "r_neuralnet = deepnets.RCNN_3x3((batch_size, 1, 27), 0.01)\n",
    "r_neuralnet_copy = deepnets.RCNN_3x3((batch_size, 1, 27), 0.01)\n",
    "r_targetnet = deepnets.RCNN_3x3((batch_size, 1, 27), 0.01)\n",
    "# ExperienceReplay \n",
    "t_experience_replay = dqn.TemporalExperienceReplay(rec_depth, environment.return_state().shape, buffer_size)\n",
    "# Agent\n",
    "DRQN = dqn.StatefulRDQNAgent(r_environment, r_neuralnet, r_neuralnet_copy, t_experience_replay, batch_size, target_net=r_targetnet, \n",
    "                              target_net_patience=target_patience, epsilon=epsilon, gamma=gamma)\n",
    "DRQN.load_weights(\"experiment_02/weights_DRQN.npy\")"
   ]
  },
  {
   "cell_type": "code",
   "execution_count": 1029,
   "metadata": {
    "collapsed": false
   },
   "outputs": [
    {
     "name": "stdout",
     "output_type": "stream",
     "text": [
      "Left: DQN \t\t\t\t\t\t\tRight: DRQN\n"
     ]
    },
    {
     "data": {
      "image/png": "[encoded data removed]",
      "text/plain": [
       "<matplotlib.figure.Figure at 0x4841aeb8>"
      ]
     },
     "metadata": {},
     "output_type": "display_data"
    }
   ],
   "source": [
    "DQN.epsilon = 1.\n",
    "DRQN.epsilon = 1.\n",
    "\n",
    "print(\"Left: DQN \\t\\t\\t\\t\\t\\t\\tRight: DRQN\")\n",
    "plt.figure(figsize=(16,16))\n",
    "plt.subplot(1,2,1)\n",
    "batch, target_batch =  DQN.demo(fig=False)\n",
    "plt.subplot(1,2,2)\n",
    "batch, target_batch =  DRQN.demo(fig=False)\n",
    "plt.show()"
   ]
  },
  {
   "cell_type": "markdown",
   "metadata": {},
   "source": [
    "If you manage to execute the cell above, you'll see that the DQN agent gets often stuck in an infinite loop \"left-right-left-right...\" (or \"up-down-up-down...\") when there is no green cell among the visible states. On the contrary, as the DRQN agent is able to remember its past actions, this situation occurs less often with the recurrent agent who is better at discovering green cell in unvisited parts of the grid."
   ]
  },
  {
   "cell_type": "code",
   "execution_count": null,
   "metadata": {
    "collapsed": true,
    "deletable": true,
    "editable": true
   },
   "outputs": [],
   "source": []
  },
  {
   "cell_type": "code",
   "execution_count": null,
   "metadata": {
    "collapsed": true,
    "deletable": true,
    "editable": true
   },
   "outputs": [],
   "source": []
  }
 ],
 "metadata": {
  "anaconda-cloud": {},
  "kernelspec": {
   "display_name": "Python 2",
   "language": "python",
   "name": "python2"
  },
  "language_info": {
   "codemirror_mode": {
    "name": "ipython",
    "version": 2
   },
   "file_extension": ".py",
   "mimetype": "text/x-python",
   "name": "python",
   "nbconvert_exporter": "python",
   "pygments_lexer": "ipython2",
   "version": "2.7.8"
  },
  "widgets": {
   "state": {},
   "version": "1.1.2"
  }
 },
 "nbformat": 4,
 "nbformat_minor": 1
}
